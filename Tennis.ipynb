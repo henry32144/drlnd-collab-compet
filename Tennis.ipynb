{
 "cells": [
  {
   "cell_type": "markdown",
   "metadata": {},
   "source": [
    "# Collaboration and Competition\n",
    "\n",
    "---\n",
    "\n",
    "In this notebook, you will learn how to use the Unity ML-Agents environment for the third project of the [Deep Reinforcement Learning Nanodegree](https://www.udacity.com/course/deep-reinforcement-learning-nanodegree--nd893) program.\n",
    "\n",
    "### 1. Start the Environment\n",
    "\n",
    "We begin by importing the necessary packages.  If the code cell below returns an error, please revisit the project instructions to double-check that you have installed [Unity ML-Agents](https://github.com/Unity-Technologies/ml-agents/blob/master/docs/Installation.md) and [NumPy](http://www.numpy.org/)."
   ]
  },
  {
   "cell_type": "code",
   "execution_count": 1,
   "metadata": {},
   "outputs": [],
   "source": [
    "from unityagents import UnityEnvironment\n",
    "import numpy as np"
   ]
  },
  {
   "cell_type": "markdown",
   "metadata": {},
   "source": [
    "Next, we will start the environment!  **_Before running the code cell below_**, change the `file_name` parameter to match the location of the Unity environment that you downloaded.\n",
    "\n",
    "- **Mac**: `\"path/to/Tennis.app\"`\n",
    "- **Windows** (x86): `\"path/to/Tennis_Windows_x86/Tennis.exe\"`\n",
    "- **Windows** (x86_64): `\"path/to/Tennis_Windows_x86_64/Tennis.exe\"`\n",
    "- **Linux** (x86): `\"path/to/Tennis_Linux/Tennis.x86\"`\n",
    "- **Linux** (x86_64): `\"path/to/Tennis_Linux/Tennis.x86_64\"`\n",
    "- **Linux** (x86, headless): `\"path/to/Tennis_Linux_NoVis/Tennis.x86\"`\n",
    "- **Linux** (x86_64, headless): `\"path/to/Tennis_Linux_NoVis/Tennis.x86_64\"`\n",
    "\n",
    "For instance, if you are using a Mac, then you downloaded `Tennis.app`.  If this file is in the same folder as the notebook, then the line below should appear as follows:\n",
    "```\n",
    "env = UnityEnvironment(file_name=\"Tennis.app\")\n",
    "```"
   ]
  },
  {
   "cell_type": "code",
   "execution_count": 2,
   "metadata": {},
   "outputs": [
    {
     "name": "stderr",
     "output_type": "stream",
     "text": [
      "INFO:unityagents:\n",
      "'Academy' started successfully!\n",
      "Unity Academy name: Academy\n",
      "        Number of Brains: 1\n",
      "        Number of External Brains : 1\n",
      "        Lesson number : 0\n",
      "        Reset Parameters :\n",
      "\t\t\n",
      "Unity brain name: TennisBrain\n",
      "        Number of Visual Observations (per agent): 0\n",
      "        Vector Observation space type: continuous\n",
      "        Vector Observation space size (per agent): 8\n",
      "        Number of stacked Vector Observation: 3\n",
      "        Vector Action space type: continuous\n",
      "        Vector Action space size (per agent): 2\n",
      "        Vector Action descriptions: , \n"
     ]
    }
   ],
   "source": [
    "env = UnityEnvironment(file_name=\"Tennis_Windows_x86_64/Tennis.exe\")"
   ]
  },
  {
   "cell_type": "markdown",
   "metadata": {},
   "source": [
    "Environments contain **_brains_** which are responsible for deciding the actions of their associated agents. Here we check for the first brain available, and set it as the default brain we will be controlling from Python."
   ]
  },
  {
   "cell_type": "code",
   "execution_count": 3,
   "metadata": {},
   "outputs": [],
   "source": [
    "# get the default brain\n",
    "brain_name = env.brain_names[0]\n",
    "brain = env.brains[brain_name]"
   ]
  },
  {
   "cell_type": "markdown",
   "metadata": {},
   "source": [
    "### 2. Examine the State and Action Spaces\n",
    "\n",
    "In this environment, two agents control rackets to bounce a ball over a net. If an agent hits the ball over the net, it receives a reward of +0.1.  If an agent lets a ball hit the ground or hits the ball out of bounds, it receives a reward of -0.01.  Thus, the goal of each agent is to keep the ball in play.\n",
    "\n",
    "The observation space consists of 8 variables corresponding to the position and velocity of the ball and racket. Two continuous actions are available, corresponding to movement toward (or away from) the net, and jumping. \n",
    "\n",
    "Run the code cell below to print some information about the environment."
   ]
  },
  {
   "cell_type": "code",
   "execution_count": 4,
   "metadata": {},
   "outputs": [
    {
     "name": "stdout",
     "output_type": "stream",
     "text": [
      "Number of agents: 2\n",
      "Size of each action: 2\n",
      "There are 2 agents. Each observes a state with length: 24\n",
      "The state for the first agent looks like: [ 0.          0.          0.          0.          0.          0.\n",
      "  0.          0.          0.          0.          0.          0.\n",
      "  0.          0.          0.          0.         -6.65278625 -1.5\n",
      " -0.          0.          6.83172083  6.         -0.          0.        ]\n"
     ]
    }
   ],
   "source": [
    "# reset the environment\n",
    "env_info = env.reset(train_mode=True)[brain_name]\n",
    "\n",
    "# number of agents \n",
    "num_agents = len(env_info.agents)\n",
    "print('Number of agents:', num_agents)\n",
    "\n",
    "# size of each action\n",
    "action_size = brain.vector_action_space_size\n",
    "print('Size of each action:', action_size)\n",
    "\n",
    "# examine the state space \n",
    "states = env_info.vector_observations\n",
    "state_size = states.shape[1]\n",
    "print('There are {} agents. Each observes a state with length: {}'.format(states.shape[0], state_size))\n",
    "print('The state for the first agent looks like:', states[0])"
   ]
  },
  {
   "cell_type": "markdown",
   "metadata": {},
   "source": [
    "### 3. Take Random Actions in the Environment\n",
    "\n",
    "In the next code cell, you will learn how to use the Python API to control the agents and receive feedback from the environment.\n",
    "\n",
    "Once this cell is executed, you will watch the agents' performance, if they select actions at random with each time step.  A window should pop up that allows you to observe the agents.\n",
    "\n",
    "Of course, as part of the project, you'll have to change the code so that the agents are able to use their experiences to gradually choose better actions when interacting with the environment!"
   ]
  },
  {
   "cell_type": "code",
   "execution_count": 5,
   "metadata": {},
   "outputs": [
    {
     "name": "stdout",
     "output_type": "stream",
     "text": [
      "Score (max over agents) from episode 1: 0.0\n",
      "Score (max over agents) from episode 2: 0.0\n",
      "Score (max over agents) from episode 3: 0.0\n",
      "Score (max over agents) from episode 4: 0.0\n",
      "Score (max over agents) from episode 5: 0.0\n"
     ]
    }
   ],
   "source": [
    "for i in range(1, 6):                                      # play game for 5 episodes\n",
    "    env_info = env.reset(train_mode=False)[brain_name]     # reset the environment    \n",
    "    states = env_info.vector_observations                  # get the current state (for each agent)\n",
    "    scores = np.zeros(num_agents)                          # initialize the score (for each agent)\n",
    "    while True:\n",
    "        actions = np.random.randn(num_agents, action_size) # select an action (for each agent)\n",
    "        actions = np.clip(actions, -1, 1)                  # all actions between -1 and 1\n",
    "        env_info = env.step(actions)[brain_name]           # send all actions to tne environment\n",
    "        next_states = env_info.vector_observations         # get next state (for each agent)\n",
    "        rewards = env_info.rewards                         # get reward (for each agent)\n",
    "        dones = env_info.local_done                        # see if episode finished\n",
    "        scores += env_info.rewards                         # update the score (for each agent)\n",
    "        states = next_states                               # roll over states to next time step\n",
    "        if np.any(dones):                                  # exit loop if episode finished\n",
    "            break\n",
    "    print('Score (max over agents) from episode {}: {}'.format(i, np.max(scores)))"
   ]
  },
  {
   "cell_type": "code",
   "execution_count": 19,
   "metadata": {},
   "outputs": [
    {
     "data": {
      "text/plain": [
       "numpy.ndarray"
      ]
     },
     "execution_count": 19,
     "metadata": {},
     "output_type": "execute_result"
    }
   ],
   "source": [
    "type(states)"
   ]
  },
  {
   "cell_type": "markdown",
   "metadata": {},
   "source": [
    "When finished, you can close the environment."
   ]
  },
  {
   "cell_type": "code",
   "execution_count": 6,
   "metadata": {},
   "outputs": [],
   "source": [
    "env.close()"
   ]
  },
  {
   "cell_type": "markdown",
   "metadata": {},
   "source": [
    "### 4. It's Your Turn!\n",
    "\n",
    "Now it's your turn to train your own agent to solve the environment!  When training the environment, set `train_mode=True`, so that the line for resetting the environment looks like the following:\n",
    "```python\n",
    "env_info = env.reset(train_mode=True)[brain_name]\n",
    "```"
   ]
  },
  {
   "cell_type": "code",
   "execution_count": 5,
   "metadata": {},
   "outputs": [],
   "source": [
    "import copy\n",
    "import random\n",
    "import torch\n",
    "import torch.nn as nn\n",
    "import torch.nn.functional as F\n",
    "import torch.optim as optim\n",
    "\n",
    "from collections import namedtuple, deque\n",
    "import matplotlib.pyplot as plt"
   ]
  },
  {
   "cell_type": "code",
   "execution_count": 6,
   "metadata": {},
   "outputs": [],
   "source": [
    "BUFFER_SIZE = int(1e5)  # replay buffer size\n",
    "BATCH_SIZE = 256        # minibatch size\n",
    "GAMMA = 0.99            # discount factor\n",
    "TAU = 1e-2              # for soft update of target parameters\n",
    "LR_ACTOR = 1e-3         # learning rate of the actor \n",
    "LR_CRITIC = 1e-3        # learning rate of the critic\n",
    "LEARN_EVERY = 4        # how often to learn from the experience\n",
    "UPDATE_EVERY = 2        # how often to update the target network\n",
    "random_seed = 0\n",
    "\n",
    "device = torch.device(\"cuda:0\" if torch.cuda.is_available() else \"cpu\")"
   ]
  },
  {
   "cell_type": "code",
   "execution_count": 7,
   "metadata": {},
   "outputs": [],
   "source": [
    "class ReplayBuffer:\n",
    "    \"\"\"Fixed-size buffer to store experience tuples.\"\"\"\n",
    "\n",
    "    def __init__(self, action_size, buffer_size, batch_size, seed):\n",
    "        \"\"\"Initialize a ReplayBuffer object.\n",
    "        Params\n",
    "        ======\n",
    "            buffer_size (int): maximum size of buffer\n",
    "            batch_size (int): size of each training batch\n",
    "        \"\"\"\n",
    "        self.action_size = action_size\n",
    "        self.memory = deque(maxlen=buffer_size)  # internal memory (deque)\n",
    "        self.batch_size = batch_size\n",
    "        self.experience = namedtuple(\"Experience\", field_names=[\"state\", \"action\", \"reward\", \"next_state\", \"done\"])\n",
    "        self.seed = random.seed(seed)\n",
    "    \n",
    "    def add(self, state, action, reward, next_state, done):\n",
    "        \"\"\"Add a new experience to memory.\"\"\"\n",
    "        e = self.experience(state, action, reward, next_state, done)\n",
    "        self.memory.append(e)\n",
    "    \n",
    "    def sample(self):\n",
    "        \"\"\"Randomly sample a batch of experiences from memory.\"\"\"\n",
    "        experiences = random.sample(self.memory, k=self.batch_size)\n",
    "\n",
    "        states = torch.from_numpy(np.vstack([e.state for e in experiences if e is not None])).float().to(device)\n",
    "        actions = torch.from_numpy(np.vstack([e.action for e in experiences if e is not None])).float().to(device)\n",
    "        rewards = torch.from_numpy(np.vstack([e.reward for e in experiences if e is not None])).float().to(device)\n",
    "        next_states = torch.from_numpy(np.vstack([e.next_state for e in experiences if e is not None])).float().to(device)\n",
    "        dones = torch.from_numpy(np.vstack([e.done for e in experiences if e is not None]).astype(np.uint8)).float().to(device)\n",
    "\n",
    "        return (states, actions, rewards, next_states, dones)\n",
    "\n",
    "    def __len__(self):\n",
    "        \"\"\"Return the current size of internal memory.\"\"\"\n",
    "        return len(self.memory)"
   ]
  },
  {
   "cell_type": "code",
   "execution_count": 8,
   "metadata": {},
   "outputs": [],
   "source": [
    "def hidden_init(layer):\n",
    "    fan_in = layer.weight.data.size()[0]\n",
    "    lim = 1. / np.sqrt(fan_in)\n",
    "    return (-lim, lim)\n",
    "\n",
    "class Actor(nn.Module):\n",
    "    \"\"\"Actor (Policy) Model.\"\"\"\n",
    "\n",
    "    def __init__(self, state_size, action_size, seed=0, fc1_units=256, fc2_units=128):\n",
    "        \"\"\"Initialize parameters and build model.\n",
    "        Params\n",
    "        ======\n",
    "            state_size (int): Dimension of each state\n",
    "            action_size (int): Dimension of each action\n",
    "            seed (int): Random seed\n",
    "            fc1_units (int): Number of nodes in first hidden layer\n",
    "            fc2_units (int): Number of nodes in second hidden layer\n",
    "        \"\"\"\n",
    "        super(Actor, self).__init__()\n",
    "        self.seed = torch.manual_seed(seed)\n",
    "        self.fc1 = nn.Linear(state_size, fc1_units)\n",
    "        self.fc2 = nn.Linear(fc1_units, fc2_units)\n",
    "        self.fc3 = nn.Linear(fc2_units, action_size)\n",
    "        self.reset_parameters()\n",
    "\n",
    "    def reset_parameters(self):\n",
    "        self.fc1.weight.data.uniform_(*hidden_init(self.fc1))\n",
    "        self.fc2.weight.data.uniform_(*hidden_init(self.fc2))\n",
    "        self.fc3.weight.data.uniform_(-3e-3, 3e-3)\n",
    "\n",
    "    def forward(self, state):\n",
    "        \"\"\"Build an actor (policy) network that maps states -> actions.\"\"\"\n",
    "        x = F.relu(self.fc1(state))\n",
    "        x = F.relu(self.fc2(x))\n",
    "        return torch.tanh(self.fc3(x))\n",
    "\n",
    "\n",
    "class Critic(nn.Module):\n",
    "    \"\"\"Critic (Value) Model.\"\"\"\n",
    "\n",
    "    def __init__(self, state_size, action_size, seed=0, fc1_units=256, fc2_units=128):\n",
    "        \"\"\"Initialize parameters and build model.\n",
    "        Params\n",
    "        ======\n",
    "            state_size (int): Dimension of each state\n",
    "            action_size (int): Dimension of each action\n",
    "            seed (int): Random seed\n",
    "            fc1_units (int): Number of nodes in the first hidden layer\n",
    "            fc2_units (int): Number of nodes in the second hidden layer\n",
    "        \"\"\"\n",
    "        super(Critic, self).__init__()\n",
    "        self.seed = torch.manual_seed(seed)\n",
    "        self.fc1 = nn.Linear(state_size, fc1_units)\n",
    "        self.fc2 = nn.Linear(fc1_units+action_size, fc2_units)\n",
    "        self.fc3 = nn.Linear(fc2_units, 1)\n",
    "        self.reset_parameters()\n",
    "\n",
    "    def reset_parameters(self):\n",
    "        self.fc1.weight.data.uniform_(*hidden_init(self.fc1))\n",
    "        self.fc2.weight.data.uniform_(*hidden_init(self.fc2))\n",
    "        self.fc3.weight.data.uniform_(-3e-3, 3e-3)\n",
    "\n",
    "    def forward(self, state, action):\n",
    "        \"\"\"Build a critic (value) network that maps (state, action) pairs -> Q-values.\"\"\"\n",
    "        xs = F.leaky_relu(self.fc1(state))\n",
    "        x = torch.cat((xs, action), dim=1)\n",
    "        x = F.leaky_relu(self.fc2(x))\n",
    "        return self.fc3(x)"
   ]
  },
  {
   "cell_type": "code",
   "execution_count": 9,
   "metadata": {},
   "outputs": [],
   "source": [
    "class TD3Agent():\n",
    "    \"\"\"Interacts with and learns from the environment.\"\"\"\n",
    "    # Shared crtic among all agents\n",
    "    critic_local1 = None\n",
    "    critic_target1 = None\n",
    "    critic_optimizer1 = None\n",
    "    \n",
    "    critic_local2 = None\n",
    "    critic_target2 = None\n",
    "    critic_optimizer2 = None\n",
    "    \n",
    "    def __init__(self, state_size, action_size, max_action, min_action, memory, random_seed, noise=0.2, noise_std=0.3, noise_clip=0.5):\n",
    "        \"\"\"Initialize an Agent object.\n",
    "        \n",
    "        Params\n",
    "        ======\n",
    "            state_size (int): dimension of each state\n",
    "            action_size (int): dimension of each action\n",
    "            max_action (ndarray): the maximum valid value for each action vector\n",
    "            min_action (ndarray): the minimum valid value for each action vector\n",
    "            random_seed (int): random seed\n",
    "            noise (float): the range to generate random noise while learning\n",
    "            noise_std (float): the range to generate random noise while performing action\n",
    "            noise_clip (float): to clip random noise into this range\n",
    "        \"\"\"\n",
    "        self.state_size = state_size\n",
    "        self.action_size = action_size\n",
    "        self.max_action = max_action\n",
    "        self.min_action = min_action\n",
    "        self.noise = noise\n",
    "        self.noise_std = noise_std\n",
    "        self.noise_clip = noise_clip\n",
    "        self.seed = random.seed(random_seed)\n",
    "\n",
    "        # Actor Network (w/ Target Network)\n",
    "        self.actor_local = Actor(state_size, action_size).to(device)\n",
    "        self.actor_target = Actor(state_size, action_size).to(device)\n",
    "        self.actor_optimizer = optim.Adam(self.actor_local.parameters(), lr=LR_ACTOR)\n",
    "\n",
    "        # Critic Network (w/ Target Network)\n",
    "        if TD3Agent.critic_local1 is None:\n",
    "            TD3Agent.critic_local1 = Critic(state_size, action_size).to(device)\n",
    "        if TD3Agent.critic_target1 is None:\n",
    "            TD3Agent.critic_target1 = Critic(state_size, action_size).to(device)\n",
    "            TD3Agent.critic_target1.load_state_dict(self.critic_local1.state_dict())\n",
    "        if TD3Agent.critic_optimizer1 is None:\n",
    "            TD3Agent.critic_optimizer1 = optim.Adam(self.critic_local1.parameters(), lr=LR_CRITIC)\n",
    "        self.critic_local1 = TD3Agent.critic_local1\n",
    "        self.critic_target1 = TD3Agent.critic_target1\n",
    "        self.critic_optimizer1 = TD3Agent.critic_optimizer1\n",
    "        \n",
    "        if TD3Agent.critic_local2 is None:\n",
    "            TD3Agent.critic_local2 = Critic(state_size, action_size).to(device)\n",
    "        if TD3Agent.critic_target2 is None:\n",
    "            TD3Agent.critic_target2 = Critic(state_size, action_size).to(device)\n",
    "            TD3Agent.critic_target2.load_state_dict(self.critic_local2.state_dict())\n",
    "        if TD3Agent.critic_optimizer2 is None:\n",
    "            TD3Agent.critic_optimizer2 = optim.Adam(self.critic_local2.parameters(), lr=LR_CRITIC)\n",
    "        self.critic_local2 = TD3Agent.critic_local2\n",
    "        self.critic_target2 = TD3Agent.critic_target2\n",
    "        self.critic_optimizer2 = TD3Agent.critic_optimizer2\n",
    "        \n",
    "        # Shared Replay memory\n",
    "        self.memory = memory\n",
    "        \n",
    "        self.lt_step = 0\n",
    "        self.ut_step = 0\n",
    "        \n",
    "        \n",
    "    def step(self, state, action, reward, next_state, done):\n",
    "        \"\"\"Save experience in replay memory\"\"\"\n",
    "        # Save experience / reward\n",
    "        self.memory.add(state, action, reward, next_state, done)\n",
    "        \n",
    "        # Learn every LEARN_EVERY times\n",
    "        self.lt_step = (self.lt_step + 1) % LEARN_EVERY\n",
    "        if self.lt_step == 0:\n",
    "            # Learn, if enough samples are available in memory\n",
    "            if len(self.memory) > BATCH_SIZE:\n",
    "                # update network UPDATE_EVERY times\n",
    "                for t in range(UPDATE_EVERY):\n",
    "                    experiences = self.memory.sample()\n",
    "                    self.learn(experiences, GAMMA)\n",
    "            \n",
    "    def act(self, state, noise_reduction=0.0, add_noise=True):\n",
    "        \"\"\"Returns actions for given state as per current policy.\n",
    "        \n",
    "        Params\n",
    "        ======\n",
    "            state (ndarray): the observation of current state\n",
    "            noise_reduction (float): the number for adjusting noise while training\n",
    "            add_noise (bool): whether to add noise in action\n",
    "        \"\"\"\n",
    "        state = torch.from_numpy(state).float().to(device)\n",
    "        self.actor_local.eval()\n",
    "        with torch.no_grad():\n",
    "            action = self.actor_local(state).cpu().data.numpy()\n",
    "        if add_noise:\n",
    "            # Generate a random noise\n",
    "            noise = np.random.normal(0, self.noise_std, size=self.action_size)\n",
    "            noise *= noise_reduction\n",
    "            # Add noise to the action for exploration\n",
    "            action = (action + noise).clip(self.min_action, self.max_action)\n",
    "        self.actor_local.train()\n",
    "        return action\n",
    "\n",
    "    def learn(self, experiences, gamma=GAMMA):\n",
    "        \"\"\"Update policy and value parameters using given batch of experience tuples.\n",
    "        \n",
    "        Params\n",
    "        ======\n",
    "            experiences (Tuple[torch.Tensor]): tuple of (s, a, r, s', done) tuples \n",
    "            gamma (float): discount factor\n",
    "        \"\"\"\n",
    "        \n",
    "        state, action, reward, next_state, done = experiences\n",
    "\n",
    "        action_ = action.cpu().numpy()\n",
    "\n",
    "        # ---------------------------- update critic ---------------------------- #\n",
    "        # Get predicted next-state actions and Q values from target models\n",
    "        actions_next = self.actor_target(next_state)\n",
    "\n",
    "        # Generate a random noise\n",
    "        noise = torch.FloatTensor(action_).data.normal_(0, self.noise).to(device)\n",
    "        noise = noise.clamp(-self.noise_clip, self.noise_clip)\n",
    "        actions_next = (actions_next + noise).clamp(self.min_action, self.max_action)\n",
    "\n",
    "        Q1_targets_next = self.critic_target1(next_state, actions_next)\n",
    "        Q2_targets_next = self.critic_target2(next_state, actions_next)\n",
    "\n",
    "        Q_targets_next = torch.min(Q1_targets_next, Q2_targets_next)\n",
    "        # Compute Q targets for current states (y_i)\n",
    "        Q_targets = reward + (gamma * Q_targets_next * (1 - done)).detach()\n",
    "        # Compute critic loss\n",
    "        Q1_expected = self.critic_local1(state, action)\n",
    "        Q2_expected = self.critic_local2(state, action)\n",
    "        critic_loss1 = F.mse_loss(Q1_expected, Q_targets)\n",
    "        critic_loss2 = F.mse_loss(Q2_expected, Q_targets)\n",
    "        # Minimize the loss\n",
    "        self.critic_optimizer1.zero_grad()\n",
    "        critic_loss1.backward()\n",
    "        self.critic_optimizer1.step()\n",
    "\n",
    "        self.critic_optimizer2.zero_grad()\n",
    "        critic_loss2.backward()\n",
    "        self.critic_optimizer2.step()\n",
    "        \n",
    "        \n",
    "        self.ut_step = (self.ut_step + 1) % UPDATE_EVERY\n",
    "        if self.ut_step == 0:\n",
    "            # ---------------------------- update actor ---------------------------- #\n",
    "            # Compute actor loss\n",
    "            actions_pred = self.actor_local(state)\n",
    "            actor_loss = -self.critic_local1(state, actions_pred).mean()\n",
    "            # Minimize the loss\n",
    "            self.actor_optimizer.zero_grad()\n",
    "            actor_loss.backward()\n",
    "            self.actor_optimizer.step()\n",
    "\n",
    "            # ----------------------- update target networks ----------------------- #\n",
    "            self.soft_update(self.critic_local1, self.critic_target1, TAU)\n",
    "            self.soft_update(self.critic_local2, self.critic_target2, TAU)\n",
    "            self.soft_update(self.actor_local, self.actor_target, TAU)                     \n",
    "\n",
    "    def soft_update(self, local_model, target_model, tau):\n",
    "        \"\"\"Soft update model parameters.\n",
    "        θ_target = τ*θ_local + (1 - τ)*θ_target\n",
    "        Params\n",
    "        ======\n",
    "            local_model: PyTorch model (weights will be copied from)\n",
    "            target_model: PyTorch model (weights will be copied to)\n",
    "            tau (float): interpolation parameter \n",
    "        \"\"\"\n",
    "        for target_param, local_param in zip(target_model.parameters(), local_model.parameters()):\n",
    "            target_param.data.copy_(tau*local_param.data + (1.0-tau)*target_param.data)"
   ]
  },
  {
   "cell_type": "code",
   "execution_count": 12,
   "metadata": {},
   "outputs": [
    {
     "name": "stdout",
     "output_type": "stream",
     "text": [
      "Appended to TD3Agent.instances agent 0\n",
      "Appended to TD3Agent.instances agent 1\n"
     ]
    }
   ],
   "source": [
    "public_replay_buffer = ReplayBuffer(action_size, BUFFER_SIZE, BATCH_SIZE, random_seed)\n",
    "\n",
    "agents =[]\n",
    "\n",
    "\n",
    "for i in range(num_agents):\n",
    "    agents.append(TD3Agent(state_size=state_size, \\\n",
    "                 action_size=action_size, \\\n",
    "                 max_action=1.0, \\\n",
    "                 min_action=-1.0, \n",
    "                 memory=public_replay_buffer, \\\n",
    "                 random_seed=0))"
   ]
  },
  {
   "cell_type": "code",
   "execution_count": 14,
   "metadata": {
    "scrolled": false
   },
   "outputs": [
    {
     "name": "stdout",
     "output_type": "stream",
     "text": [
      "Episode 100\tAverage Score: 0.00\tScore: 0.00\n",
      "Episode 200\tAverage Score: 0.00\tScore: 0.00\n",
      "Episode 300\tAverage Score: 0.02\tScore: 0.00\n",
      "Episode 400\tAverage Score: 0.06\tScore: 0.20\n",
      "Save at 470\tAverage Score: 0.52\tScore: 2.20\n",
      "Solved at Episode 470 !\tAverage Score: 0.52\n",
      "Save at 480\tAverage Score: 0.57\tScore: 0.30\n",
      "Save at 490\tAverage Score: 0.64\tScore: 1.30\n",
      "Episode 500\tAverage Score: 0.76\tScore: 0.59\n",
      "Save at 500\tAverage Score: 0.76\n",
      "Save at 510\tAverage Score: 0.84\tScore: 0.10\n",
      "Save at 520\tAverage Score: 0.93\tScore: 2.50\n",
      "Save at 530\tAverage Score: 1.02\tScore: 1.00\n",
      "Save at 580\tAverage Score: 1.23\tScore: 2.60\n",
      "Episode 600\tAverage Score: 1.18\tScore: 0.30\n",
      "Episode 700\tAverage Score: 1.05\tScore: 0.10\n",
      "Save at 750\tAverage Score: 1.29\tScore: 2.10\n",
      "Episode 800\tAverage Score: 1.39\tScore: 2.70\n",
      "Save at 800\tAverage Score: 1.39\n",
      "Episode 900\tAverage Score: 1.19\tScore: 0.80\n",
      "Episode 1000\tAverage Score: 1.32\tScore: 0.10\n",
      "Episode 1100\tAverage Score: 1.02\tScore: 0.30\n",
      "Episode 1200\tAverage Score: 1.30\tScore: 0.10\n",
      "Episode 1300\tAverage Score: 0.56\tScore: 0.80\n",
      "Episode 1400\tAverage Score: 0.88\tScore: 0.09\n",
      "Episode 1500\tAverage Score: 0.68\tScore: 2.40\n",
      "Episode 1600\tAverage Score: 1.03\tScore: 0.80\n",
      "Save at 1650\tAverage Score: 1.52\tScore: 0.20\n",
      "Episode 1700\tAverage Score: 0.92\tScore: 0.09\n",
      "Episode 1800\tAverage Score: 0.67\tScore: 0.10\n",
      "Episode 1900\tAverage Score: 1.03\tScore: 0.20\n",
      "Episode 2000\tAverage Score: 0.96\tScore: 0.10\n"
     ]
    },
    {
     "data": {
      "image/png": "[encoded data removed]",
      "text/plain": [
       "<Figure size 432x288 with 1 Axes>"
      ]
     },
     "metadata": {
      "needs_background": "light"
     },
     "output_type": "display_data"
    }
   ],
   "source": [
    "def td3(n_episodes=2000, max_t=100000):\n",
    "    scores_deque = deque(maxlen=100)\n",
    "    solved = False\n",
    "    total_scores = []\n",
    "    highest_score = float('-inf')\n",
    "    for i_episode in range(1, n_episodes+1):\n",
    "        env_info = env.reset(train_mode=True)[brain_name]\n",
    "        states = env_info.vector_observations\n",
    "        scores = np.zeros(num_agents)\n",
    "        # Initialize noise reduction\n",
    "        noise_degree = 2.0\n",
    "        noise_decay = 0.999\n",
    "        while True:\n",
    "            actions = []\n",
    "            for i in range(len(states)):\n",
    "                actions.append(agents[i].act(states[i], True, noise_degree))\n",
    "            noise_degree *= noise_decay\n",
    "            env_info = env.step(actions)[brain_name]           # send all actions to the environment\n",
    "            next_states = env_info.vector_observations         # get next state (for each agent)\n",
    "            rewards = env_info.rewards                         # get reward (for each agent)\n",
    "            dones = env_info.local_done\n",
    "            \n",
    "            for i in range(num_agents):\n",
    "                agents[i].step(states[i], actions[i], rewards[i], next_states[i], dones[i])\n",
    "\n",
    "            states = next_states\n",
    "            scores += rewards\n",
    "            if np.any(dones):\n",
    "                break\n",
    "        scores_deque.append(np.max(scores))\n",
    "        total_scores.append(scores)\n",
    "        mean_score = np.mean(scores_deque)\n",
    "        print('\\rEpisode {}\\tAverage Score: {:.2f}\\tScore: {:.2f}'.format(i_episode, mean_score, np.max(scores)), end=\"\")\n",
    "        if i_episode % 100 == 0:\n",
    "            print('\\rEpisode {}\\tAverage Score: {:.2f}'.format(i_episode, mean_score)) \n",
    "        if mean_score >= 0.5 and mean_score > highest_score and i_episode % 10 == 0:\n",
    "            torch.save(agents[0].actor_local.state_dict(), 'actor1.pth')\n",
    "            torch.save(agents[1].actor_local.state_dict(), 'actor2.pth')\n",
    "            torch.save(agents[0].critic_local1.state_dict(), 'critic1.pth')\n",
    "            torch.save(agents[0].critic_local2.state_dict(), 'critic2.pth')\n",
    "            print('\\rSave at {}\\tAverage Score: {:.2f}'.format(i_episode, mean_score))\n",
    "        if mean_score >= 0.5 and solved == False:\n",
    "            solved = True\n",
    "            torch.save(agents[0].actor_local.state_dict(), 'actor1.pth')\n",
    "            torch.save(agents[1].actor_local.state_dict(), 'actor2.pth')\n",
    "            torch.save(agents[0].critic_local1.state_dict(), 'critic1.pth')\n",
    "            torch.save(agents[0].critic_local2.state_dict(), 'critic2.pth')\n",
    "            print('\\rSolved at Episode {} !\\tAverage Score: {:.2f}'.format(i_episode, mean_score))\n",
    "        highest_score = max(highest_score, mean_score)\n",
    "    return total_scores\n",
    "\n",
    "scores = td3()"
   ]
  },
  {
   "cell_type": "code",
   "execution_count": 20,
   "metadata": {},
   "outputs": [
    {
     "data": {
      "image/png": "[encoded data removed]",
      "text/plain": [
       "<Figure size 1152x360 with 2 Axes>"
      ]
     },
     "metadata": {
      "needs_background": "light"
     },
     "output_type": "display_data"
    }
   ],
   "source": [
    "import pandas as pd\n",
    "\n",
    "score_df = pd.DataFrame(scores)\n",
    "\n",
    "fig = plt.figure(figsize=(16,5))\n",
    "ax = fig.add_subplot(121)\n",
    "plt.plot(np.arange(1, len(scores)+1), np.max(scores,axis=1))\n",
    "plt.axhline(y=0.5, color='r', linestyle='-')\n",
    "plt.ylabel('Score')\n",
    "plt.xlabel('Episode #')\n",
    "\n",
    "ay = fig.add_subplot(122)\n",
    "plt.plot(np.arange(1, len(scores)+1), score_df.rolling(100).mean())\n",
    "plt.axhline(y=0.5, color='r', linestyle='-')\n",
    "plt.ylabel('Avg Score')\n",
    "plt.xlabel('Episode #')\n",
    "\n",
    "plt.show()"
   ]
  },
  {
   "cell_type": "markdown",
   "metadata": {},
   "source": [
    "## Watch agent play"
   ]
  },
  {
   "cell_type": "code",
   "execution_count": 11,
   "metadata": {},
   "outputs": [],
   "source": [
    "public_replay_buffer = ReplayBuffer(action_size, BUFFER_SIZE, BATCH_SIZE, random_seed)\n",
    "agents =[]\n",
    "for i in range(num_agents):\n",
    "    agents.append(TD3Agent(state_size=state_size, \\\n",
    "                 action_size=action_size, \\\n",
    "                 max_action=1.0, \\\n",
    "                 min_action=-1.0, \n",
    "                 memory=public_replay_buffer, \\\n",
    "                 random_seed=0))\n",
    "\n",
    "for i in range(len(agents)):\n",
    "    agents[i].actor_local.load_state_dict(torch.load('actor{}.pth'.format(i+1)))\n",
    "    agents[i].critic_local1.load_state_dict(torch.load('critic1.pth'))\n",
    "    agents[i].critic_local2.load_state_dict(torch.load('critic2.pth'))"
   ]
  },
  {
   "cell_type": "code",
   "execution_count": 13,
   "metadata": {},
   "outputs": [
    {
     "name": "stdout",
     "output_type": "stream",
     "text": [
      "Score (max over agents) from episode 1: 2.600000038743019\n",
      "Score (max over agents) from episode 1: 2.600000038743019\n"
     ]
    }
   ],
   "source": [
    "for i in range(1, 3):                                      # play game for 5 episodes\n",
    "    env_info = env.reset(train_mode=False)[brain_name]     # reset the environment    \n",
    "    states = env_info.vector_observations                  # get the current state (for each agent)\n",
    "    scores = np.zeros(num_agents)                          # initialize the score (for each agent)\n",
    "    while True:\n",
    "        actions = []\n",
    "        for i in range(len(states)):\n",
    "            actions.append(agents[i].act(states[i], False))\n",
    "        env_info = env.step(actions)[brain_name]           # send all actions to tne environment\n",
    "        next_states = env_info.vector_observations         # get next state (for each agent)\n",
    "        rewards = env_info.rewards                         # get reward (for each agent)\n",
    "        dones = env_info.local_done                        # see if episode finished\n",
    "        scores += env_info.rewards                         # update the score (for each agent)\n",
    "        states = next_states                               # roll over states to next time step\n",
    "        if np.any(dones):                                  # exit loop if episode finished\n",
    "            break\n",
    "    print('Score (max over agents) from episode {}: {}'.format(i, np.max(scores)))"
   ]
  },
  {
   "cell_type": "code",
   "execution_count": 14,
   "metadata": {},
   "outputs": [],
   "source": [
    "env.close()"
   ]
  }
 ],
 "metadata": {
  "kernelspec": {
   "display_name": "Python 3",
   "language": "python",
   "name": "python3"
  },
  "language_info": {
   "codemirror_mode": {
    "name": "ipython",
    "version": 3
   },
   "file_extension": ".py",
   "mimetype": "text/x-python",
   "name": "python",
   "nbconvert_exporter": "python",
   "pygments_lexer": "ipython3",
   "version": "3.6.6"
  }
 },
 "nbformat": 4,
 "nbformat_minor": 2
}
